{
 "cells": [
  {
   "cell_type": "code",
   "execution_count": 1,
   "id": "4f7e338d-bae3-4675-9efd-26c64b207c3b",
   "metadata": {},
   "outputs": [],
   "source": [
    "import pandas as pd\n",
    "import numpy as np\n",
    "from sklearn.ensemble import RandomForestClassifier\n",
    "from sklearn.model_selection import RandomizedSearchCV\n",
    "from xgboost import XGBClassifier\n",
    "from sklearn.metrics import accuracy_score, roc_curve, auc\n",
    "import matplotlib.pyplot as plt\n",
    "%matplotlib inline\n",
    "import pickle"
   ]
  },
  {
   "cell_type": "code",
   "execution_count": 2,
   "id": "34556096-663c-437e-bd0c-a8122d397122",
   "metadata": {},
   "outputs": [],
   "source": [
    "x = pd.read_csv(\"rus_x.csv\")\n",
    "y = pd.read_csv(\"rus_y.csv\")"
   ]
  },
  {
   "cell_type": "code",
   "execution_count": 3,
   "id": "ac6160fe-a320-4522-8717-33c6361ed2a9",
   "metadata": {},
   "outputs": [
    {
     "data": {
      "text/html": [
       "<div>\n",
       "<style scoped>\n",
       "    .dataframe tbody tr th:only-of-type {\n",
       "        vertical-align: middle;\n",
       "    }\n",
       "\n",
       "    .dataframe tbody tr th {\n",
       "        vertical-align: top;\n",
       "    }\n",
       "\n",
       "    .dataframe thead th {\n",
       "        text-align: right;\n",
       "    }\n",
       "</style>\n",
       "<table border=\"1\" class=\"dataframe\">\n",
       "  <thead>\n",
       "    <tr style=\"text-align: right;\">\n",
       "      <th></th>\n",
       "      <th>p_interface</th>\n",
       "    </tr>\n",
       "  </thead>\n",
       "  <tbody>\n",
       "    <tr>\n",
       "      <th>0</th>\n",
       "      <td>0</td>\n",
       "    </tr>\n",
       "    <tr>\n",
       "      <th>1</th>\n",
       "      <td>0</td>\n",
       "    </tr>\n",
       "    <tr>\n",
       "      <th>2</th>\n",
       "      <td>0</td>\n",
       "    </tr>\n",
       "    <tr>\n",
       "      <th>3</th>\n",
       "      <td>0</td>\n",
       "    </tr>\n",
       "    <tr>\n",
       "      <th>4</th>\n",
       "      <td>0</td>\n",
       "    </tr>\n",
       "    <tr>\n",
       "      <th>...</th>\n",
       "      <td>...</td>\n",
       "    </tr>\n",
       "    <tr>\n",
       "      <th>12639</th>\n",
       "      <td>1</td>\n",
       "    </tr>\n",
       "    <tr>\n",
       "      <th>12640</th>\n",
       "      <td>1</td>\n",
       "    </tr>\n",
       "    <tr>\n",
       "      <th>12641</th>\n",
       "      <td>1</td>\n",
       "    </tr>\n",
       "    <tr>\n",
       "      <th>12642</th>\n",
       "      <td>1</td>\n",
       "    </tr>\n",
       "    <tr>\n",
       "      <th>12643</th>\n",
       "      <td>1</td>\n",
       "    </tr>\n",
       "  </tbody>\n",
       "</table>\n",
       "<p>12644 rows × 1 columns</p>\n",
       "</div>"
      ],
      "text/plain": [
       "       p_interface\n",
       "0                0\n",
       "1                0\n",
       "2                0\n",
       "3                0\n",
       "4                0\n",
       "...            ...\n",
       "12639            1\n",
       "12640            1\n",
       "12641            1\n",
       "12642            1\n",
       "12643            1\n",
       "\n",
       "[12644 rows x 1 columns]"
      ]
     },
     "execution_count": 3,
     "metadata": {},
     "output_type": "execute_result"
    }
   ],
   "source": [
    "y"
   ]
  },
  {
   "cell_type": "code",
   "execution_count": 4,
   "id": "3afb824c-e667-43a5-93c6-276241290cba",
   "metadata": {},
   "outputs": [],
   "source": [
    "y=y.to_numpy().ravel()"
   ]
  },
  {
   "cell_type": "code",
   "execution_count": 5,
   "id": "72cd51bb-1b03-440e-8b57-f5717cc567f8",
   "metadata": {},
   "outputs": [
    {
     "data": {
      "text/plain": [
       "array([0, 0, 0, ..., 1, 1, 1])"
      ]
     },
     "execution_count": 5,
     "metadata": {},
     "output_type": "execute_result"
    }
   ],
   "source": [
    "y"
   ]
  },
  {
   "cell_type": "code",
   "execution_count": 61,
   "id": "d181646e-58ad-4656-b363-2c39ea05779a",
   "metadata": {},
   "outputs": [
    {
     "name": "stdout",
     "output_type": "stream",
     "text": [
      "Fitting 5 folds for each of 20 candidates, totalling 100 fits\n"
     ]
    }
   ],
   "source": [
    "rf = RandomForestClassifier(random_state=0,n_jobs=-1)\n",
    "distributions = {\"n_estimators\": np.arange(100,300,20),\n",
    "                 \"criterion\": [\"gini\"],\n",
    "                 \"max_depth\": np.arange(10,100,10)}\n",
    "rf_clf = RandomizedSearchCV(rf, param_distributions=distributions,n_iter=20, random_state=0,verbose=1,scoring='f1')\n",
    "search = rf_clf.fit(x, y)"
   ]
  },
  {
   "cell_type": "code",
   "execution_count": 62,
   "id": "203f84de-d5a6-446b-8a52-e551e41681d2",
   "metadata": {},
   "outputs": [
    {
     "data": {
      "text/plain": [
       "{'n_estimators': 140, 'max_depth': 10, 'criterion': 'gini'}"
      ]
     },
     "execution_count": 62,
     "metadata": {},
     "output_type": "execute_result"
    }
   ],
   "source": [
    "search.best_params_"
   ]
  },
  {
   "cell_type": "code",
   "execution_count": 63,
   "id": "1f32b865-9fa0-4690-87ce-ad8809a29611",
   "metadata": {},
   "outputs": [
    {
     "data": {
      "text/plain": [
       "0.2918874732057788"
      ]
     },
     "execution_count": 63,
     "metadata": {},
     "output_type": "execute_result"
    }
   ],
   "source": [
    "search.best_score_"
   ]
  },
  {
   "cell_type": "code",
   "execution_count": 41,
   "id": "cfb437d7-aaf6-42ba-9e08-9b05c043c2c4",
   "metadata": {},
   "outputs": [],
   "source": [
    "cv_results = pd.DataFrame(search.cv_results_)"
   ]
  },
  {
   "cell_type": "code",
   "execution_count": 50,
   "id": "b378f7b7-8b96-494c-8eae-6ec7cda57fc1",
   "metadata": {},
   "outputs": [
    {
     "data": {
      "text/plain": [
       "{'n_estimators': 90,\n",
       " 'min_samples_split': 16,\n",
       " 'min_samples_leaf': 19,\n",
       " 'max_samples': 0.2,\n",
       " 'max_depth': None,\n",
       " 'criterion': 'gini'}"
      ]
     },
     "execution_count": 50,
     "metadata": {},
     "output_type": "execute_result"
    }
   ],
   "source": [
    "cv_results.params[14]"
   ]
  },
  {
   "cell_type": "code",
   "execution_count": 7,
   "id": "534af5d9-ca08-4160-9374-c3db5868a656",
   "metadata": {},
   "outputs": [],
   "source": [
    "import pickle\n",
    "with open(\"nearmiss.pickle\", \"rb\") as file:\n",
    "    nm_x, nm_y = pickle.load(file)"
   ]
  },
  {
   "cell_type": "code",
   "execution_count": 81,
   "id": "12302b92-4f10-49ea-b37e-28558af99fdc",
   "metadata": {},
   "outputs": [
    {
     "name": "stdout",
     "output_type": "stream",
     "text": [
      "Fitting 5 folds for each of 20 candidates, totalling 100 fits\n"
     ]
    }
   ],
   "source": [
    "rf = RandomForestClassifier(random_state=0,n_jobs=-1)\n",
    "distributions = {\"n_estimators\": np.arange(100,300,20),\n",
    "                 \"criterion\": [\"gini\"],\n",
    "                 \"max_depth\": np.arange(10,100,10)}\n",
    "rf_clf = RandomizedSearchCV(rf, param_distributions=distributions,n_iter=20, random_state=0,verbose=1,scoring='f1')\n",
    "search = rf_clf.fit(nm_x, nm_y)"
   ]
  },
  {
   "cell_type": "code",
   "execution_count": 82,
   "id": "3ba4d273-28d6-4f61-adba-333c6af48451",
   "metadata": {},
   "outputs": [
    {
     "data": {
      "text/plain": [
       "{'n_estimators': 260, 'max_depth': 10, 'criterion': 'gini'}"
      ]
     },
     "execution_count": 82,
     "metadata": {},
     "output_type": "execute_result"
    }
   ],
   "source": [
    "search.best_params_"
   ]
  },
  {
   "cell_type": "code",
   "execution_count": 83,
   "id": "fc0102bf-e550-440e-94c7-44fe80d56935",
   "metadata": {},
   "outputs": [
    {
     "data": {
      "text/plain": [
       "0.33959760258615856"
      ]
     },
     "execution_count": 83,
     "metadata": {},
     "output_type": "execute_result"
    }
   ],
   "source": [
    "search.best_score_"
   ]
  },
  {
   "cell_type": "code",
   "execution_count": 8,
   "id": "4bda435d-34c3-4a85-8736-a18f5b69d3bf",
   "metadata": {},
   "outputs": [],
   "source": [
    "with open(\"smotenc.pickle\", \"rb\") as file:\n",
    "    smote_x, smote_y = pickle.load(file)"
   ]
  },
  {
   "cell_type": "code",
   "execution_count": 9,
   "id": "d4121542-c62c-43ea-a33d-01990187c8ca",
   "metadata": {},
   "outputs": [
    {
     "name": "stdout",
     "output_type": "stream",
     "text": [
      "Fitting 5 folds for each of 20 candidates, totalling 100 fits\n"
     ]
    }
   ],
   "source": [
    "rf = RandomForestClassifier(random_state=0,n_jobs=-1)\n",
    "distributions = {\"n_estimators\": np.arange(100,300,20),\n",
    "                 \"criterion\": [\"gini\"],\n",
    "                 \"max_depth\": np.arange(10,100,10)}\n",
    "rf_clf = RandomizedSearchCV(rf, param_distributions=distributions,n_iter=20, random_state=0,verbose=1,scoring='f1')\n",
    "search = rf_clf.fit(smote_x, smote_y)"
   ]
  },
  {
   "cell_type": "code",
   "execution_count": 10,
   "id": "d49fd308-c791-4fe9-a017-09f03e6be13a",
   "metadata": {},
   "outputs": [
    {
     "data": {
      "text/plain": [
       "{'n_estimators': 220, 'max_depth': 60, 'criterion': 'gini'}"
      ]
     },
     "execution_count": 10,
     "metadata": {},
     "output_type": "execute_result"
    }
   ],
   "source": [
    "search.best_params_"
   ]
  },
  {
   "cell_type": "code",
   "execution_count": 11,
   "id": "1b32284e-c779-467f-8449-be3146f78e78",
   "metadata": {},
   "outputs": [
    {
     "data": {
      "text/plain": [
       "0.8805789911977261"
      ]
     },
     "execution_count": 11,
     "metadata": {},
     "output_type": "execute_result"
    }
   ],
   "source": [
    "search.best_score_"
   ]
  },
  {
   "cell_type": "code",
   "execution_count": 92,
   "id": "45457282-2c63-4275-b740-9c6ff94e18a5",
   "metadata": {},
   "outputs": [],
   "source": [
    "with open(\"smoteenn.pickle\", \"rb\") as file:\n",
    "    sme_x, sme_y = pickle.load(file)"
   ]
  },
  {
   "cell_type": "code",
   "execution_count": 93,
   "id": "00815533-853f-43ef-92b4-bd382dae7e79",
   "metadata": {},
   "outputs": [
    {
     "name": "stdout",
     "output_type": "stream",
     "text": [
      "Fitting 5 folds for each of 20 candidates, totalling 100 fits\n"
     ]
    }
   ],
   "source": [
    "rf = RandomForestClassifier(random_state=0,n_jobs=-1)\n",
    "distributions = {\"n_estimators\": np.arange(140,280,20),\n",
    "                 \"criterion\": [\"gini\"],\n",
    "                 \"max_depth\": np.arange(10,100,10)}\n",
    "rf_clf = RandomizedSearchCV(rf, param_distributions=distributions,n_iter=20, random_state=0,verbose=1,scoring='f1')\n",
    "search = rf_clf.fit(sme_x, sme_y)"
   ]
  },
  {
   "cell_type": "code",
   "execution_count": 94,
   "id": "b1a3309e-0348-4e02-bd4d-83716125fda2",
   "metadata": {},
   "outputs": [
    {
     "data": {
      "text/plain": [
       "{'n_estimators': 260, 'max_depth': 50, 'criterion': 'gini'}"
      ]
     },
     "execution_count": 94,
     "metadata": {},
     "output_type": "execute_result"
    }
   ],
   "source": [
    "search.best_params_"
   ]
  },
  {
   "cell_type": "code",
   "execution_count": 95,
   "id": "1066b25d-27b3-41c6-a551-a383f50c1863",
   "metadata": {},
   "outputs": [
    {
     "data": {
      "text/plain": [
       "0.9240765195491221"
      ]
     },
     "execution_count": 95,
     "metadata": {},
     "output_type": "execute_result"
    }
   ],
   "source": [
    "search.best_score_"
   ]
  },
  {
   "cell_type": "code",
   "execution_count": 12,
   "id": "7ef3aad9-99b8-4d0f-a24e-d6f54f8fc662",
   "metadata": {},
   "outputs": [],
   "source": [
    "test1 = pd.read_csv(\"test1.csv\")\n",
    "x_test1 = test1.drop(['aa_ProtPosition', 'domain','p_interface','uniprot_id','Rlength'], axis=1)\n",
    "y_test1 = test1.p_interface"
   ]
  },
  {
   "cell_type": "code",
   "execution_count": 13,
   "id": "c9dc3567-c2f9-460e-8584-47d44040dd30",
   "metadata": {},
   "outputs": [],
   "source": [
    "train1 = pd.read_csv(\"train1.csv\")\n",
    "x_train1 = train1.drop(['aa_ProtPosition', 'domain','p_interface','uniprot_id','Rlength'], axis=1)\n",
    "y_train1 = train1.p_interface"
   ]
  },
  {
   "cell_type": "code",
   "execution_count": 14,
   "id": "bf315e2b-2ee3-4697-bd63-103361a42b36",
   "metadata": {},
   "outputs": [
    {
     "name": "stdout",
     "output_type": "stream",
     "text": [
      "Fitting 5 folds for each of 10 candidates, totalling 50 fits\n"
     ]
    }
   ],
   "source": [
    "rf = RandomForestClassifier(random_state=0,n_jobs=-1)\n",
    "distributions = {\"n_estimators\": np.arange(100,300,20),\n",
    "                 \"criterion\": [\"gini\"],\n",
    "                 \"max_depth\": np.arange(10,100,10)}\n",
    "rf_clf = RandomizedSearchCV(rf, param_distributions=distributions,n_iter=10, random_state=0,verbose=1,scoring='f1')\n",
    "search = rf_clf.fit(x_train1, y_train1)"
   ]
  },
  {
   "cell_type": "code",
   "execution_count": 15,
   "id": "aa29bef2-af09-442a-a24e-4153b30453fe",
   "metadata": {},
   "outputs": [
    {
     "data": {
      "text/plain": [
       "{'n_estimators': 160, 'max_depth': 60, 'criterion': 'gini'}"
      ]
     },
     "execution_count": 15,
     "metadata": {},
     "output_type": "execute_result"
    }
   ],
   "source": [
    "search.best_params_"
   ]
  },
  {
   "cell_type": "code",
   "execution_count": 16,
   "id": "b3245984-dfb2-4258-b377-666b4eb773fb",
   "metadata": {},
   "outputs": [
    {
     "data": {
      "text/plain": [
       "0.008775137111517369"
      ]
     },
     "execution_count": 16,
     "metadata": {},
     "output_type": "execute_result"
    }
   ],
   "source": [
    "search.best_score_"
   ]
  },
  {
   "cell_type": "code",
   "execution_count": 17,
   "id": "4c486115-0593-4bb7-abbc-ce641895d6c9",
   "metadata": {},
   "outputs": [
    {
     "name": "stdout",
     "output_type": "stream",
     "text": [
      "Fitting 5 folds for each of 10 candidates, totalling 50 fits\n"
     ]
    }
   ],
   "source": [
    "bst = XGBClassifier()\n",
    "distributions = {\"max_depth\": [4,6,8,10],\n",
    "                 \"n_estimators\": np.arange(50, 200, 20)}\n",
    "bst_clf = RandomizedSearchCV(bst, param_distributions=distributions,n_iter=10, random_state=0,verbose=1,scoring='f1')\n",
    "search = bst_clf.fit(x, y)"
   ]
  },
  {
   "cell_type": "code",
   "execution_count": 18,
   "id": "1335288b-a3a7-4e3a-a809-948c769b83ab",
   "metadata": {},
   "outputs": [
    {
     "name": "stdout",
     "output_type": "stream",
     "text": [
      "{'n_estimators': 90, 'max_depth': 4}\n",
      "0.15081951208218533\n"
     ]
    }
   ],
   "source": [
    "print(search.best_params_)\n",
    "print(search.best_score_)"
   ]
  },
  {
   "cell_type": "code",
   "execution_count": null,
   "id": "4d61bdc2-3ac3-42f2-b5ac-fe9f6aa3d487",
   "metadata": {},
   "outputs": [],
   "source": [
    "bst = XGBClassifier()\n",
    "distributions = {\"max_depth\": [4,6,8,10],\n",
    "                 \"n_estimators\": np.arange(50, 200, 20)}\n",
    "bst_clf = RandomizedSearchCV(bst, param_distributions=distributions,n_iter=10, random_state=0,verbose=1,scoring='f1')\n",
    "search = bst_clf.fit(x_train1, y_train1)"
   ]
  },
  {
   "cell_type": "code",
   "execution_count": null,
   "id": "e5400368-260a-4166-8a83-6c8673067e51",
   "metadata": {},
   "outputs": [],
   "source": [
    "print(search.best_params_)\n",
    "print(search.best_score_)"
   ]
  },
  {
   "cell_type": "code",
   "execution_count": null,
   "id": "2446ba63-380b-40de-b302-f24e3ab6a023",
   "metadata": {},
   "outputs": [],
   "source": [
    "bst = XGBClassifier()\n",
    "distributions = {\"max_depth\": [4,6,8,10],\n",
    "                 \"n_estimators\": np.arange(50, 200, 20)}\n",
    "bst_clf = RandomizedSearchCV(bst, param_distributions=distributions,n_iter=10, random_state=0,verbose=1,scoring='f1')\n",
    "search = bst_clf.fit(smote_x, smote_y)"
   ]
  },
  {
   "cell_type": "code",
   "execution_count": null,
   "id": "eeaacae2-012f-4bbf-b069-7fda8a1b6392",
   "metadata": {},
   "outputs": [],
   "source": [
    "print(search.best_params_)\n",
    "print(search.best_score_)"
   ]
  },
  {
   "cell_type": "code",
   "execution_count": 19,
   "id": "4b4e5476-51c4-4ecf-939b-ffa46a5767d4",
   "metadata": {},
   "outputs": [],
   "source": [
    "with open(\"RUS2.pickle\", \"rb\") as file:\n",
    "    rus2_x, rus2_y = pickle.load(file)"
   ]
  },
  {
   "cell_type": "code",
   "execution_count": 20,
   "id": "7ead93fe-0b7a-473e-a53a-75cf4be52bea",
   "metadata": {},
   "outputs": [
    {
     "name": "stdout",
     "output_type": "stream",
     "text": [
      "Fitting 5 folds for each of 20 candidates, totalling 100 fits\n"
     ]
    }
   ],
   "source": [
    "rf = RandomForestClassifier(random_state=0,n_jobs=-1)\n",
    "distributions = {\"n_estimators\": np.arange(100,300,20),\n",
    "                 \"criterion\": [\"gini\"],\n",
    "                 \"max_depth\": np.arange(10,100,10)}\n",
    "rf_clf = RandomizedSearchCV(rf, param_distributions=distributions,n_iter=20, random_state=0,verbose=1,scoring='f1')\n",
    "search = rf_clf.fit(rus2_x, rus2_y)"
   ]
  },
  {
   "cell_type": "code",
   "execution_count": 21,
   "id": "4b61eaba-5525-4770-a551-93d9743af579",
   "metadata": {},
   "outputs": [
    {
     "name": "stdout",
     "output_type": "stream",
     "text": [
      "{'n_estimators': 140, 'max_depth': 10, 'criterion': 'gini'}\n",
      "0.28379205136193536\n"
     ]
    }
   ],
   "source": [
    "print(search.best_params_)\n",
    "print(search.best_score_)"
   ]
  },
  {
   "cell_type": "code",
   "execution_count": 5,
   "id": "809297a0-6666-46c0-a62c-47b44a4e7fdf",
   "metadata": {},
   "outputs": [],
   "source": [
    "with open(\"RUS2.pickle\", \"rb\") as file:\n",
    "    rus2_x, rus2_y = pickle.load(file)"
   ]
  },
  {
   "cell_type": "code",
   "execution_count": 6,
   "id": "d622a1c2-d8c3-45c9-a1d8-efd312559c11",
   "metadata": {},
   "outputs": [],
   "source": [
    "rus2_x = rus2_x.drop(['normalized_length'],axis=1)"
   ]
  },
  {
   "cell_type": "code",
   "execution_count": 8,
   "id": "3d49cad9-73e9-4331-953e-98ef47a91890",
   "metadata": {},
   "outputs": [
    {
     "name": "stdout",
     "output_type": "stream",
     "text": [
      "Fitting 5 folds for each of 10 candidates, totalling 50 fits\n"
     ]
    }
   ],
   "source": [
    "rf = RandomForestClassifier(random_state=0,n_jobs=-1)\n",
    "distributions = {\"n_estimators\": np.arange(100,220,20),\n",
    "                 \"criterion\": [\"gini\"],\n",
    "                 \"max_depth\": np.arange(10,100,10)}\n",
    "rf_clf = RandomizedSearchCV(rf, param_distributions=distributions,n_iter=10, random_state=0,verbose=1,scoring='f1')\n",
    "search = rf_clf.fit(rus2_x, rus2_y)"
   ]
  },
  {
   "cell_type": "code",
   "execution_count": 9,
   "id": "314fe1eb-097d-41ed-b95d-7926e7785daf",
   "metadata": {},
   "outputs": [
    {
     "name": "stdout",
     "output_type": "stream",
     "text": [
      "{'n_estimators': 140, 'max_depth': 10, 'criterion': 'gini'}\n",
      "0.6077407312837056\n"
     ]
    }
   ],
   "source": [
    "print(search.best_params_)\n",
    "print(search.best_score_)"
   ]
  },
  {
   "cell_type": "code",
   "execution_count": 6,
   "id": "eabc958d-e49a-4561-9444-b3ecd4c7fc05",
   "metadata": {},
   "outputs": [],
   "source": [
    "with open(\"RUS3.pickle\", \"rb\") as file:\n",
    "    rus3_x, rus3_y = pickle.load(file)"
   ]
  },
  {
   "cell_type": "code",
   "execution_count": 7,
   "id": "654f1168-2d32-456e-89ab-b6af0747383e",
   "metadata": {},
   "outputs": [
    {
     "name": "stdout",
     "output_type": "stream",
     "text": [
      "Fitting 5 folds for each of 20 candidates, totalling 100 fits\n"
     ]
    }
   ],
   "source": [
    "rf = RandomForestClassifier(random_state=0,n_jobs=-1)\n",
    "distributions = {\"n_estimators\": np.arange(100,220,20),\n",
    "                 \"criterion\": [\"gini\"],\n",
    "                 \"max_depth\": np.arange(10,100,10)}\n",
    "rf_clf = RandomizedSearchCV(rf, param_distributions=distributions,n_iter=20, random_state=0,verbose=1,scoring='f1')\n",
    "search = rf_clf.fit(rus3_x, rus3_y)"
   ]
  },
  {
   "cell_type": "code",
   "execution_count": 9,
   "id": "63e69a15-619e-4d1d-822d-6380c27cabb8",
   "metadata": {},
   "outputs": [
    {
     "name": "stdout",
     "output_type": "stream",
     "text": [
      "{'n_estimators': 180, 'max_depth': 10, 'criterion': 'gini'}\n",
      "0.2814772479137687\n"
     ]
    }
   ],
   "source": [
    "print(search.best_params_)\n",
    "print(search.best_score_)"
   ]
  },
  {
   "cell_type": "code",
   "execution_count": 13,
   "id": "b082cbe6-c385-4aa4-a612-b3ede71ed344",
   "metadata": {},
   "outputs": [],
   "source": [
    "with open(\"RUS4.pickle\", \"rb\") as file:\n",
    "    rus4_x, rus4_y = pickle.load(file)"
   ]
  },
  {
   "cell_type": "code",
   "execution_count": 14,
   "id": "5e6aee1c-5df0-4545-ba5d-dc9437ffc80a",
   "metadata": {},
   "outputs": [
    {
     "name": "stdout",
     "output_type": "stream",
     "text": [
      "Fitting 5 folds for each of 20 candidates, totalling 100 fits\n"
     ]
    }
   ],
   "source": [
    "rf = RandomForestClassifier(random_state=0,n_jobs=-1)\n",
    "distributions = {\"n_estimators\": np.arange(100,220,20),\n",
    "                 \"criterion\": [\"gini\"],\n",
    "                 \"max_depth\": np.arange(10,100,10)}\n",
    "rf_clf = RandomizedSearchCV(rf, param_distributions=distributions,n_iter=20, random_state=0,verbose=1,scoring='f1')\n",
    "search = rf_clf.fit(rus4_x, rus4_y)"
   ]
  },
  {
   "cell_type": "code",
   "execution_count": 15,
   "id": "91554a41-c27c-4713-86b6-3b070ffbc738",
   "metadata": {},
   "outputs": [
    {
     "name": "stdout",
     "output_type": "stream",
     "text": [
      "{'n_estimators': 140, 'max_depth': 10, 'criterion': 'gini'}\n",
      "0.25734011047809124\n"
     ]
    }
   ],
   "source": [
    "print(search.best_params_)\n",
    "print(search.best_score_)"
   ]
  }
 ],
 "metadata": {
  "kernelspec": {
   "display_name": "Python 3",
   "language": "python",
   "name": "python3"
  },
  "language_info": {
   "codemirror_mode": {
    "name": "ipython",
    "version": 3
   },
   "file_extension": ".py",
   "mimetype": "text/x-python",
   "name": "python",
   "nbconvert_exporter": "python",
   "pygments_lexer": "ipython3",
   "version": "3.8.20"
  }
 },
 "nbformat": 4,
 "nbformat_minor": 5
}
