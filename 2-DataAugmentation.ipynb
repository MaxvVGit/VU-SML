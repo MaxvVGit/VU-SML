{
 "cells": [
  {
   "cell_type": "code",
   "execution_count": 1,
   "id": "9c23f705-12f7-43f5-8148-2fec712e611d",
   "metadata": {},
   "outputs": [],
   "source": [
    "import pandas as pd\n",
    "import numpy as np\n",
    "from imblearn.under_sampling import RandomUnderSampler\n",
    "from collections import Counter\n",
    "from imblearn.under_sampling import NearMiss\n",
    "from imblearn.over_sampling import SMOTENC"
   ]
  },
  {
   "cell_type": "code",
   "execution_count": 5,
   "id": "560a6e07-1483-4e33-9389-c8cd1916f17b",
   "metadata": {},
   "outputs": [],
   "source": [
    "train1 = pd.read_csv(\"train1.csv\")"
   ]
  },
  {
   "cell_type": "code",
   "execution_count": 6,
   "id": "51165998-a5e1-4c62-98a2-7a84c2221870",
   "metadata": {},
   "outputs": [],
   "source": [
    "x = train1.drop(['aa_ProtPosition', 'domain','p_interface','uniprot_id','Rlength'], axis=1)\n",
    "y = train1.p_interface"
   ]
  },
  {
   "cell_type": "code",
   "execution_count": 7,
   "id": "e43439ec-81e3-4eec-873a-7cdbfe9343a5",
   "metadata": {},
   "outputs": [
    {
     "name": "stdout",
     "output_type": "stream",
     "text": [
      "Original dataset shape Counter({0: 46545, 1: 6322})\n"
     ]
    }
   ],
   "source": [
    "print('Original dataset shape %s' % Counter(y))"
   ]
  },
  {
   "cell_type": "code",
   "execution_count": 18,
   "id": "3c963d09-e042-4879-81b8-04d6eae50c4e",
   "metadata": {},
   "outputs": [],
   "source": [
    "rus = RandomUnderSampler(random_state=36)"
   ]
  },
  {
   "cell_type": "code",
   "execution_count": 19,
   "id": "a0638b40-d4ad-4d58-bc0c-89ed6d1e1b21",
   "metadata": {},
   "outputs": [],
   "source": [
    "rus_x,rus_y = rus.fit_resample(x, y)"
   ]
  },
  {
   "cell_type": "code",
   "execution_count": 20,
   "id": "b88b551b-497c-48f2-8214-3d7e9d02a414",
   "metadata": {},
   "outputs": [
    {
     "name": "stdout",
     "output_type": "stream",
     "text": [
      "Resampled dataset shape Counter({0: 6322, 1: 6322})\n"
     ]
    }
   ],
   "source": [
    "print('Resampled dataset shape %s' % Counter(rus_y))"
   ]
  },
  {
   "cell_type": "code",
   "execution_count": 22,
   "id": "bea32b41-e435-42b6-bc02-6d6946c31cbe",
   "metadata": {},
   "outputs": [],
   "source": [
    "rus_x.to_csv('rus_x.csv', index=False)\n",
    "rus_y.to_csv('rus_y.csv',index=False)"
   ]
  },
  {
   "cell_type": "code",
   "execution_count": 21,
   "id": "7e18c0d2-6808-4c90-98b4-74a60e234fed",
   "metadata": {},
   "outputs": [],
   "source": [
    "NM = NearMiss(version=3)"
   ]
  },
  {
   "cell_type": "code",
   "execution_count": 22,
   "id": "8730b7b3-4130-4e8f-bf4c-3dfc57c6c700",
   "metadata": {},
   "outputs": [],
   "source": [
    "nm_x,nm_y = NM.fit_resample(x,y)"
   ]
  },
  {
   "cell_type": "code",
   "execution_count": 23,
   "id": "84f473c1-04f0-4bd4-acb3-3d374d739e0b",
   "metadata": {},
   "outputs": [
    {
     "name": "stdout",
     "output_type": "stream",
     "text": [
      "Resampled dataset shape Counter({0: 6322, 1: 6322})\n"
     ]
    }
   ],
   "source": [
    "print('Resampled dataset shape %s' % Counter(nm_y))"
   ]
  },
  {
   "cell_type": "code",
   "execution_count": 24,
   "id": "74143d69-3a5a-401a-bedb-1c5634e130f5",
   "metadata": {},
   "outputs": [
    {
     "data": {
      "text/plain": [
       "0        0\n",
       "1        0\n",
       "2        0\n",
       "3        0\n",
       "4        0\n",
       "        ..\n",
       "12639    1\n",
       "12640    1\n",
       "12641    1\n",
       "12642    1\n",
       "12643    1\n",
       "Name: p_interface, Length: 12644, dtype: int64"
      ]
     },
     "execution_count": 24,
     "metadata": {},
     "output_type": "execute_result"
    }
   ],
   "source": [
    "nm_y"
   ]
  },
  {
   "cell_type": "code",
   "execution_count": 29,
   "id": "49a5d844-4671-4371-969e-4999cd80463c",
   "metadata": {},
   "outputs": [
    {
     "data": {
      "text/html": [
       "<div>\n",
       "<style scoped>\n",
       "    .dataframe tbody tr th:only-of-type {\n",
       "        vertical-align: middle;\n",
       "    }\n",
       "\n",
       "    .dataframe tbody tr th {\n",
       "        vertical-align: top;\n",
       "    }\n",
       "\n",
       "    .dataframe thead th {\n",
       "        text-align: right;\n",
       "    }\n",
       "</style>\n",
       "<table border=\"1\" class=\"dataframe\">\n",
       "  <thead>\n",
       "    <tr style=\"text-align: right;\">\n",
       "      <th></th>\n",
       "      <th>sequence_A</th>\n",
       "      <th>sequence_C</th>\n",
       "      <th>sequence_D</th>\n",
       "      <th>sequence_E</th>\n",
       "      <th>sequence_F</th>\n",
       "      <th>sequence_G</th>\n",
       "      <th>sequence_H</th>\n",
       "      <th>sequence_I</th>\n",
       "      <th>sequence_K</th>\n",
       "      <th>sequence_L</th>\n",
       "      <th>...</th>\n",
       "      <th>9_wm_pssm_L</th>\n",
       "      <th>9_wm_pssm_K</th>\n",
       "      <th>9_wm_pssm_M</th>\n",
       "      <th>9_wm_pssm_F</th>\n",
       "      <th>9_wm_pssm_P</th>\n",
       "      <th>9_wm_pssm_S</th>\n",
       "      <th>9_wm_pssm_T</th>\n",
       "      <th>9_wm_pssm_W</th>\n",
       "      <th>9_wm_pssm_Y</th>\n",
       "      <th>9_wm_pssm_V</th>\n",
       "    </tr>\n",
       "  </thead>\n",
       "  <tbody>\n",
       "    <tr>\n",
       "      <th>0</th>\n",
       "      <td>0.0</td>\n",
       "      <td>0.0</td>\n",
       "      <td>0.0</td>\n",
       "      <td>0.0</td>\n",
       "      <td>0.0</td>\n",
       "      <td>0.0</td>\n",
       "      <td>0.0</td>\n",
       "      <td>0.0</td>\n",
       "      <td>0.0</td>\n",
       "      <td>0.0</td>\n",
       "      <td>...</td>\n",
       "      <td>0.111111</td>\n",
       "      <td>0.111111</td>\n",
       "      <td>0.111111</td>\n",
       "      <td>0.111111</td>\n",
       "      <td>0.111111</td>\n",
       "      <td>0.111111</td>\n",
       "      <td>0.111111</td>\n",
       "      <td>0.111111</td>\n",
       "      <td>0.111111</td>\n",
       "      <td>0.111111</td>\n",
       "    </tr>\n",
       "    <tr>\n",
       "      <th>1</th>\n",
       "      <td>0.0</td>\n",
       "      <td>0.0</td>\n",
       "      <td>0.0</td>\n",
       "      <td>0.0</td>\n",
       "      <td>0.0</td>\n",
       "      <td>0.0</td>\n",
       "      <td>0.0</td>\n",
       "      <td>0.0</td>\n",
       "      <td>0.0</td>\n",
       "      <td>0.0</td>\n",
       "      <td>...</td>\n",
       "      <td>0.111111</td>\n",
       "      <td>0.111111</td>\n",
       "      <td>0.111111</td>\n",
       "      <td>0.111111</td>\n",
       "      <td>0.111111</td>\n",
       "      <td>0.111111</td>\n",
       "      <td>0.111111</td>\n",
       "      <td>0.111111</td>\n",
       "      <td>0.111111</td>\n",
       "      <td>0.111111</td>\n",
       "    </tr>\n",
       "    <tr>\n",
       "      <th>2</th>\n",
       "      <td>0.0</td>\n",
       "      <td>0.0</td>\n",
       "      <td>0.0</td>\n",
       "      <td>1.0</td>\n",
       "      <td>0.0</td>\n",
       "      <td>0.0</td>\n",
       "      <td>0.0</td>\n",
       "      <td>0.0</td>\n",
       "      <td>0.0</td>\n",
       "      <td>0.0</td>\n",
       "      <td>...</td>\n",
       "      <td>0.111111</td>\n",
       "      <td>0.111111</td>\n",
       "      <td>0.111111</td>\n",
       "      <td>0.111111</td>\n",
       "      <td>0.111111</td>\n",
       "      <td>0.111111</td>\n",
       "      <td>0.111111</td>\n",
       "      <td>0.111111</td>\n",
       "      <td>0.111111</td>\n",
       "      <td>0.111111</td>\n",
       "    </tr>\n",
       "    <tr>\n",
       "      <th>3</th>\n",
       "      <td>0.0</td>\n",
       "      <td>0.0</td>\n",
       "      <td>0.0</td>\n",
       "      <td>0.0</td>\n",
       "      <td>0.0</td>\n",
       "      <td>0.0</td>\n",
       "      <td>0.0</td>\n",
       "      <td>0.0</td>\n",
       "      <td>0.0</td>\n",
       "      <td>0.0</td>\n",
       "      <td>...</td>\n",
       "      <td>0.111111</td>\n",
       "      <td>0.111111</td>\n",
       "      <td>0.111111</td>\n",
       "      <td>0.111111</td>\n",
       "      <td>0.111111</td>\n",
       "      <td>0.111111</td>\n",
       "      <td>0.111111</td>\n",
       "      <td>0.111111</td>\n",
       "      <td>0.111111</td>\n",
       "      <td>0.111111</td>\n",
       "    </tr>\n",
       "    <tr>\n",
       "      <th>4</th>\n",
       "      <td>0.0</td>\n",
       "      <td>0.0</td>\n",
       "      <td>0.0</td>\n",
       "      <td>0.0</td>\n",
       "      <td>0.0</td>\n",
       "      <td>0.0</td>\n",
       "      <td>0.0</td>\n",
       "      <td>0.0</td>\n",
       "      <td>1.0</td>\n",
       "      <td>0.0</td>\n",
       "      <td>...</td>\n",
       "      <td>0.551832</td>\n",
       "      <td>0.302858</td>\n",
       "      <td>0.436017</td>\n",
       "      <td>0.238759</td>\n",
       "      <td>0.103980</td>\n",
       "      <td>0.105653</td>\n",
       "      <td>0.161544</td>\n",
       "      <td>0.060391</td>\n",
       "      <td>0.140326</td>\n",
       "      <td>0.481904</td>\n",
       "    </tr>\n",
       "    <tr>\n",
       "      <th>...</th>\n",
       "      <td>...</td>\n",
       "      <td>...</td>\n",
       "      <td>...</td>\n",
       "      <td>...</td>\n",
       "      <td>...</td>\n",
       "      <td>...</td>\n",
       "      <td>...</td>\n",
       "      <td>...</td>\n",
       "      <td>...</td>\n",
       "      <td>...</td>\n",
       "      <td>...</td>\n",
       "      <td>...</td>\n",
       "      <td>...</td>\n",
       "      <td>...</td>\n",
       "      <td>...</td>\n",
       "      <td>...</td>\n",
       "      <td>...</td>\n",
       "      <td>...</td>\n",
       "      <td>...</td>\n",
       "      <td>...</td>\n",
       "      <td>...</td>\n",
       "    </tr>\n",
       "    <tr>\n",
       "      <th>52862</th>\n",
       "      <td>0.0</td>\n",
       "      <td>0.0</td>\n",
       "      <td>0.0</td>\n",
       "      <td>0.0</td>\n",
       "      <td>0.0</td>\n",
       "      <td>0.0</td>\n",
       "      <td>0.0</td>\n",
       "      <td>0.0</td>\n",
       "      <td>0.0</td>\n",
       "      <td>0.0</td>\n",
       "      <td>...</td>\n",
       "      <td>0.178378</td>\n",
       "      <td>0.304710</td>\n",
       "      <td>0.238159</td>\n",
       "      <td>0.164524</td>\n",
       "      <td>0.499017</td>\n",
       "      <td>0.312684</td>\n",
       "      <td>0.287011</td>\n",
       "      <td>0.107033</td>\n",
       "      <td>0.188562</td>\n",
       "      <td>0.207782</td>\n",
       "    </tr>\n",
       "    <tr>\n",
       "      <th>52863</th>\n",
       "      <td>0.0</td>\n",
       "      <td>0.0</td>\n",
       "      <td>0.0</td>\n",
       "      <td>0.0</td>\n",
       "      <td>0.0</td>\n",
       "      <td>0.0</td>\n",
       "      <td>0.0</td>\n",
       "      <td>0.0</td>\n",
       "      <td>0.0</td>\n",
       "      <td>0.0</td>\n",
       "      <td>...</td>\n",
       "      <td>0.111111</td>\n",
       "      <td>0.111111</td>\n",
       "      <td>0.111111</td>\n",
       "      <td>0.111111</td>\n",
       "      <td>0.111111</td>\n",
       "      <td>0.111111</td>\n",
       "      <td>0.111111</td>\n",
       "      <td>0.111111</td>\n",
       "      <td>0.111111</td>\n",
       "      <td>0.111111</td>\n",
       "    </tr>\n",
       "    <tr>\n",
       "      <th>52864</th>\n",
       "      <td>0.0</td>\n",
       "      <td>0.0</td>\n",
       "      <td>0.0</td>\n",
       "      <td>0.0</td>\n",
       "      <td>0.0</td>\n",
       "      <td>0.0</td>\n",
       "      <td>0.0</td>\n",
       "      <td>0.0</td>\n",
       "      <td>0.0</td>\n",
       "      <td>0.0</td>\n",
       "      <td>...</td>\n",
       "      <td>0.111111</td>\n",
       "      <td>0.111111</td>\n",
       "      <td>0.111111</td>\n",
       "      <td>0.111111</td>\n",
       "      <td>0.111111</td>\n",
       "      <td>0.111111</td>\n",
       "      <td>0.111111</td>\n",
       "      <td>0.111111</td>\n",
       "      <td>0.111111</td>\n",
       "      <td>0.111111</td>\n",
       "    </tr>\n",
       "    <tr>\n",
       "      <th>52865</th>\n",
       "      <td>0.0</td>\n",
       "      <td>0.0</td>\n",
       "      <td>0.0</td>\n",
       "      <td>0.0</td>\n",
       "      <td>0.0</td>\n",
       "      <td>0.0</td>\n",
       "      <td>0.0</td>\n",
       "      <td>0.0</td>\n",
       "      <td>0.0</td>\n",
       "      <td>0.0</td>\n",
       "      <td>...</td>\n",
       "      <td>0.111111</td>\n",
       "      <td>0.111111</td>\n",
       "      <td>0.111111</td>\n",
       "      <td>0.111111</td>\n",
       "      <td>0.111111</td>\n",
       "      <td>0.111111</td>\n",
       "      <td>0.111111</td>\n",
       "      <td>0.111111</td>\n",
       "      <td>0.111111</td>\n",
       "      <td>0.111111</td>\n",
       "    </tr>\n",
       "    <tr>\n",
       "      <th>52866</th>\n",
       "      <td>0.0</td>\n",
       "      <td>0.0</td>\n",
       "      <td>0.0</td>\n",
       "      <td>0.0</td>\n",
       "      <td>0.0</td>\n",
       "      <td>0.0</td>\n",
       "      <td>0.0</td>\n",
       "      <td>0.0</td>\n",
       "      <td>0.0</td>\n",
       "      <td>0.0</td>\n",
       "      <td>...</td>\n",
       "      <td>0.111111</td>\n",
       "      <td>0.111111</td>\n",
       "      <td>0.111111</td>\n",
       "      <td>0.111111</td>\n",
       "      <td>0.111111</td>\n",
       "      <td>0.111111</td>\n",
       "      <td>0.111111</td>\n",
       "      <td>0.111111</td>\n",
       "      <td>0.111111</td>\n",
       "      <td>0.111111</td>\n",
       "    </tr>\n",
       "  </tbody>\n",
       "</table>\n",
       "<p>52867 rows × 151 columns</p>\n",
       "</div>"
      ],
      "text/plain": [
       "       sequence_A  sequence_C  sequence_D  sequence_E  sequence_F  sequence_G  \\\n",
       "0             0.0         0.0         0.0         0.0         0.0         0.0   \n",
       "1             0.0         0.0         0.0         0.0         0.0         0.0   \n",
       "2             0.0         0.0         0.0         1.0         0.0         0.0   \n",
       "3             0.0         0.0         0.0         0.0         0.0         0.0   \n",
       "4             0.0         0.0         0.0         0.0         0.0         0.0   \n",
       "...           ...         ...         ...         ...         ...         ...   \n",
       "52862         0.0         0.0         0.0         0.0         0.0         0.0   \n",
       "52863         0.0         0.0         0.0         0.0         0.0         0.0   \n",
       "52864         0.0         0.0         0.0         0.0         0.0         0.0   \n",
       "52865         0.0         0.0         0.0         0.0         0.0         0.0   \n",
       "52866         0.0         0.0         0.0         0.0         0.0         0.0   \n",
       "\n",
       "       sequence_H  sequence_I  sequence_K  sequence_L  ...  9_wm_pssm_L  \\\n",
       "0             0.0         0.0         0.0         0.0  ...     0.111111   \n",
       "1             0.0         0.0         0.0         0.0  ...     0.111111   \n",
       "2             0.0         0.0         0.0         0.0  ...     0.111111   \n",
       "3             0.0         0.0         0.0         0.0  ...     0.111111   \n",
       "4             0.0         0.0         1.0         0.0  ...     0.551832   \n",
       "...           ...         ...         ...         ...  ...          ...   \n",
       "52862         0.0         0.0         0.0         0.0  ...     0.178378   \n",
       "52863         0.0         0.0         0.0         0.0  ...     0.111111   \n",
       "52864         0.0         0.0         0.0         0.0  ...     0.111111   \n",
       "52865         0.0         0.0         0.0         0.0  ...     0.111111   \n",
       "52866         0.0         0.0         0.0         0.0  ...     0.111111   \n",
       "\n",
       "       9_wm_pssm_K  9_wm_pssm_M  9_wm_pssm_F  9_wm_pssm_P  9_wm_pssm_S  \\\n",
       "0         0.111111     0.111111     0.111111     0.111111     0.111111   \n",
       "1         0.111111     0.111111     0.111111     0.111111     0.111111   \n",
       "2         0.111111     0.111111     0.111111     0.111111     0.111111   \n",
       "3         0.111111     0.111111     0.111111     0.111111     0.111111   \n",
       "4         0.302858     0.436017     0.238759     0.103980     0.105653   \n",
       "...            ...          ...          ...          ...          ...   \n",
       "52862     0.304710     0.238159     0.164524     0.499017     0.312684   \n",
       "52863     0.111111     0.111111     0.111111     0.111111     0.111111   \n",
       "52864     0.111111     0.111111     0.111111     0.111111     0.111111   \n",
       "52865     0.111111     0.111111     0.111111     0.111111     0.111111   \n",
       "52866     0.111111     0.111111     0.111111     0.111111     0.111111   \n",
       "\n",
       "       9_wm_pssm_T  9_wm_pssm_W  9_wm_pssm_Y  9_wm_pssm_V  \n",
       "0         0.111111     0.111111     0.111111     0.111111  \n",
       "1         0.111111     0.111111     0.111111     0.111111  \n",
       "2         0.111111     0.111111     0.111111     0.111111  \n",
       "3         0.111111     0.111111     0.111111     0.111111  \n",
       "4         0.161544     0.060391     0.140326     0.481904  \n",
       "...            ...          ...          ...          ...  \n",
       "52862     0.287011     0.107033     0.188562     0.207782  \n",
       "52863     0.111111     0.111111     0.111111     0.111111  \n",
       "52864     0.111111     0.111111     0.111111     0.111111  \n",
       "52865     0.111111     0.111111     0.111111     0.111111  \n",
       "52866     0.111111     0.111111     0.111111     0.111111  \n",
       "\n",
       "[52867 rows x 151 columns]"
      ]
     },
     "execution_count": 29,
     "metadata": {},
     "output_type": "execute_result"
    }
   ],
   "source": [
    "x"
   ]
  },
  {
   "cell_type": "code",
   "execution_count": 25,
   "id": "dced5f8c-883b-4c7a-af12-53ec90c0d1a5",
   "metadata": {},
   "outputs": [],
   "source": [
    "import pickle\n",
    "with open(\"nearmiss.pickle\", \"wb\") as file:\n",
    "    pickle.dump((nm_x, nm_y), file)"
   ]
  },
  {
   "cell_type": "code",
   "execution_count": 26,
   "id": "3841a2a8-9f35-494c-958b-0bd3a4303fcd",
   "metadata": {},
   "outputs": [],
   "source": [
    "with open(\"nearmiss.pickle\", \"rb\") as file:\n",
    "    nm_x, nm_y = pickle.load(file)"
   ]
  },
  {
   "cell_type": "code",
   "execution_count": 33,
   "id": "1ba57385-1545-495f-a12c-f125c153e667",
   "metadata": {},
   "outputs": [],
   "source": [
    "smote = SMOTENC(random_state=42, categorical_features=list(range(0,21)))"
   ]
  },
  {
   "cell_type": "code",
   "execution_count": 34,
   "id": "ae52e942-c99d-4d06-94cc-cc4520195762",
   "metadata": {},
   "outputs": [],
   "source": [
    "smote_x,smote_y = smote.fit_resample(x,y)"
   ]
  },
  {
   "cell_type": "code",
   "execution_count": 35,
   "id": "13104016-3828-4056-9040-e2bb9bcb77f2",
   "metadata": {},
   "outputs": [
    {
     "name": "stdout",
     "output_type": "stream",
     "text": [
      "Resampled dataset shape Counter({0: 46545, 1: 46545})\n"
     ]
    }
   ],
   "source": [
    "print('Resampled dataset shape %s' % Counter(smote_y))"
   ]
  },
  {
   "cell_type": "code",
   "execution_count": 36,
   "id": "614049ac-4564-491f-b3af-54634ae7e987",
   "metadata": {},
   "outputs": [],
   "source": [
    "with open(\"smotenc.pickle\", \"wb\") as file:\n",
    "    pickle.dump((smote_x, smote_y), file)"
   ]
  },
  {
   "cell_type": "code",
   "execution_count": 38,
   "id": "968fbb06-3a2d-400d-9f3c-63d1a4856e64",
   "metadata": {},
   "outputs": [],
   "source": [
    "from imblearn.combine import SMOTEENN\n",
    "sme = SMOTEENN(random_state=42,smote=smote)"
   ]
  },
  {
   "cell_type": "code",
   "execution_count": 39,
   "id": "74d812e1-cd55-4cee-b6da-243889dd1dfa",
   "metadata": {},
   "outputs": [],
   "source": [
    "sme_x,sme_y = sme.fit_resample(x,y)"
   ]
  },
  {
   "cell_type": "code",
   "execution_count": 40,
   "id": "0c409aad-97d3-4291-a983-c0417f54b21e",
   "metadata": {},
   "outputs": [
    {
     "name": "stdout",
     "output_type": "stream",
     "text": [
      "Resampled dataset shape Counter({0: 46545, 1: 46545})\n"
     ]
    }
   ],
   "source": [
    "print('Resampled dataset shape %s' % Counter(smote_y))"
   ]
  },
  {
   "cell_type": "code",
   "execution_count": 41,
   "id": "af7e1696-21df-4f4f-8af0-d96f2bd8e0bc",
   "metadata": {},
   "outputs": [],
   "source": [
    "with open(\"smoteenn.pickle\", \"wb\") as file:\n",
    "    pickle.dump((sme_x, sme_y), file)"
   ]
  },
  {
   "cell_type": "code",
   "execution_count": 3,
   "id": "249c971d-9eb4-4a0b-bbce-8b25e6f34f5a",
   "metadata": {},
   "outputs": [],
   "source": [
    "train2 = pd.read_csv(\"train2.csv\")"
   ]
  },
  {
   "cell_type": "code",
   "execution_count": 4,
   "id": "616fdcf6-d97e-4da0-b28a-8a9aa94dece0",
   "metadata": {},
   "outputs": [],
   "source": [
    "x = train2.drop(['aa_ProtPosition', 'domain','p_interface','uniprot_id','Rlength'], axis=1)\n",
    "y = train2.p_interface"
   ]
  },
  {
   "cell_type": "code",
   "execution_count": 5,
   "id": "2d686155-5191-40a9-85a9-238576c2a2d9",
   "metadata": {},
   "outputs": [
    {
     "name": "stdout",
     "output_type": "stream",
     "text": [
      "Original dataset shape Counter({0: 46545, 1: 6322})\n"
     ]
    }
   ],
   "source": [
    "print('Original dataset shape %s' % Counter(y))"
   ]
  },
  {
   "cell_type": "code",
   "execution_count": 6,
   "id": "683a65b7-393e-49f2-9eea-4534c1ca6dbf",
   "metadata": {},
   "outputs": [],
   "source": [
    "rus = RandomUnderSampler(random_state=36)"
   ]
  },
  {
   "cell_type": "code",
   "execution_count": 7,
   "id": "1b8b0425-e95c-4045-8d28-2f362f4ed8b6",
   "metadata": {},
   "outputs": [],
   "source": [
    "rus_x,rus_y = rus.fit_resample(x, y)"
   ]
  },
  {
   "cell_type": "code",
   "execution_count": 8,
   "id": "13c4be38-557c-4e26-908e-8aabfc2c7cfb",
   "metadata": {},
   "outputs": [
    {
     "name": "stdout",
     "output_type": "stream",
     "text": [
      "Resampled dataset shape Counter({0: 6322, 1: 6322})\n"
     ]
    }
   ],
   "source": [
    "print('Resampled dataset shape %s' % Counter(rus_y))"
   ]
  },
  {
   "cell_type": "code",
   "execution_count": 9,
   "id": "7ea89e3e-2b1f-4fb6-a0e4-060f84f4eeec",
   "metadata": {},
   "outputs": [],
   "source": [
    "import pickle\n",
    "with open(\"RUS2.pickle\", \"wb\") as file:\n",
    "    pickle.dump((rus_x, rus_y), file)"
   ]
  },
  {
   "cell_type": "code",
   "execution_count": 12,
   "id": "0bea1bb5-b021-4017-a9b1-f512a101101c",
   "metadata": {},
   "outputs": [],
   "source": [
    "train3 = pd.read_csv(\"train3.csv\")"
   ]
  },
  {
   "cell_type": "code",
   "execution_count": 13,
   "id": "cb550e36-0602-42cc-a18b-14c1b50af5f9",
   "metadata": {},
   "outputs": [],
   "source": [
    "x = train3.drop(['aa_ProtPosition', 'domain','p_interface','uniprot_id','Rlength'], axis=1)\n",
    "y = train3.p_interface"
   ]
  },
  {
   "cell_type": "code",
   "execution_count": 14,
   "id": "a838633b-37d9-43f0-a5fe-d3fd05e3045a",
   "metadata": {},
   "outputs": [],
   "source": [
    "rus = RandomUnderSampler(random_state=36)"
   ]
  },
  {
   "cell_type": "code",
   "execution_count": 15,
   "id": "07226980-af6a-43ed-af71-45823dd8dc1e",
   "metadata": {},
   "outputs": [],
   "source": [
    "rus_x,rus_y = rus.fit_resample(x, y)"
   ]
  },
  {
   "cell_type": "code",
   "execution_count": 16,
   "id": "31ec9f2c-6a87-4874-96a3-725bcaa60c98",
   "metadata": {},
   "outputs": [
    {
     "name": "stdout",
     "output_type": "stream",
     "text": [
      "Resampled dataset shape Counter({0: 6322, 1: 6322})\n"
     ]
    }
   ],
   "source": [
    "print('Resampled dataset shape %s' % Counter(rus_y))"
   ]
  },
  {
   "cell_type": "code",
   "execution_count": 17,
   "id": "ed7e711a-aa4b-43d9-be72-3dc952786d83",
   "metadata": {},
   "outputs": [],
   "source": [
    "import pickle\n",
    "with open(\"RUS3.pickle\", \"wb\") as file:\n",
    "    pickle.dump((rus_x, rus_y), file)"
   ]
  },
  {
   "cell_type": "code",
   "execution_count": 22,
   "id": "df214237-5bbe-42c5-8d15-fe059b05aa5c",
   "metadata": {},
   "outputs": [],
   "source": [
    "train4 = pd.read_csv(\"train4.csv\")"
   ]
  },
  {
   "cell_type": "code",
   "execution_count": 23,
   "id": "77f6a3c1-b829-4771-837e-eb66b9853696",
   "metadata": {},
   "outputs": [],
   "source": [
    "x = train4.drop(['aa_ProtPosition', 'domain','p_interface','uniprot_id','Rlength'], axis=1)\n",
    "y = train4.p_interface"
   ]
  },
  {
   "cell_type": "code",
   "execution_count": 24,
   "id": "05c6d3eb-8e02-4ba3-b94e-8a0496be5d4f",
   "metadata": {},
   "outputs": [
    {
     "name": "stdout",
     "output_type": "stream",
     "text": [
      "Resampled dataset shape Counter({0: 6322, 1: 6322})\n"
     ]
    }
   ],
   "source": [
    "rus = RandomUnderSampler(random_state=36)\n",
    "rus_x,rus_y = rus.fit_resample(x, y)\n",
    "print('Resampled dataset shape %s' % Counter(rus_y))"
   ]
  },
  {
   "cell_type": "code",
   "execution_count": 25,
   "id": "63659ba8-dd37-48a2-a82a-b345d584fdbd",
   "metadata": {},
   "outputs": [],
   "source": [
    "import pickle\n",
    "with open(\"RUS4.pickle\", \"wb\") as file:\n",
    "    pickle.dump((rus_x, rus_y), file)"
   ]
  }
 ],
 "metadata": {
  "kernelspec": {
   "display_name": "Python 3",
   "language": "python",
   "name": "python3"
  },
  "language_info": {
   "codemirror_mode": {
    "name": "ipython",
    "version": 3
   },
   "file_extension": ".py",
   "mimetype": "text/x-python",
   "name": "python",
   "nbconvert_exporter": "python",
   "pygments_lexer": "ipython3",
   "version": "3.8.20"
  }
 },
 "nbformat": 4,
 "nbformat_minor": 5
}
